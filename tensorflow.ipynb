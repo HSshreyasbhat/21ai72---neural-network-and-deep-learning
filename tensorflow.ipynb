{
  "nbformat": 4,
  "nbformat_minor": 0,
  "metadata": {
    "colab": {
      "provenance": []
    },
    "kernelspec": {
      "name": "python3",
      "display_name": "Python 3"
    },
    "language_info": {
      "name": "python"
    }
  },
  "cells": [
    {
      "cell_type": "code",
      "execution_count": 1,
      "metadata": {
        "id": "ojTxtD-ul4Km"
      },
      "outputs": [],
      "source": [
        "import tensorflow as tf\n",
        "from tensorflow import keras\n",
        "import matplotlib.pyplot as plt\n",
        "%matplotlib inline\n",
        "import numpy as np"
      ]
    },
    {
      "cell_type": "code",
      "source": [
        "(X_train, y_train) , (X_test, y_test) = keras.datasets.mnist.load_data()"
      ],
      "metadata": {
        "colab": {
          "base_uri": "https://localhost:8080/"
        },
        "id": "jfgEUTnRl7Ns",
        "outputId": "bce3fd09-27b4-4541-b7d0-db9fc07f10da"
      },
      "execution_count": 2,
      "outputs": [
        {
          "output_type": "stream",
          "name": "stdout",
          "text": [
            "Downloading data from https://storage.googleapis.com/tensorflow/tf-keras-datasets/mnist.npz\n",
            "\u001b[1m11490434/11490434\u001b[0m \u001b[32m━━━━━━━━━━━━━━━━━━━━\u001b[0m\u001b[37m\u001b[0m \u001b[1m0s\u001b[0m 0us/step\n"
          ]
        }
      ]
    },
    {
      "cell_type": "code",
      "source": [
        "len(X_train)"
      ],
      "metadata": {
        "colab": {
          "base_uri": "https://localhost:8080/"
        },
        "id": "LElVvHt_mGgu",
        "outputId": "85b0b83a-fae7-47d2-945e-99bc383bd1c0"
      },
      "execution_count": 3,
      "outputs": [
        {
          "output_type": "execute_result",
          "data": {
            "text/plain": [
              "60000"
            ]
          },
          "metadata": {},
          "execution_count": 3
        }
      ]
    },
    {
      "cell_type": "code",
      "source": [
        "len(X_test)"
      ],
      "metadata": {
        "colab": {
          "base_uri": "https://localhost:8080/"
        },
        "id": "ruva2_k5mJgx",
        "outputId": "b31b2b1b-bf78-4fb0-e0e6-37645b7613b8"
      },
      "execution_count": 4,
      "outputs": [
        {
          "output_type": "execute_result",
          "data": {
            "text/plain": [
              "10000"
            ]
          },
          "metadata": {},
          "execution_count": 4
        }
      ]
    },
    {
      "cell_type": "code",
      "source": [
        "X_train[0].shape"
      ],
      "metadata": {
        "colab": {
          "base_uri": "https://localhost:8080/"
        },
        "id": "d4t-lNFamLh2",
        "outputId": "bbbb3c89-1ce2-4918-f82e-3427beb80442"
      },
      "execution_count": 5,
      "outputs": [
        {
          "output_type": "execute_result",
          "data": {
            "text/plain": [
              "(28, 28)"
            ]
          },
          "metadata": {},
          "execution_count": 5
        }
      ]
    },
    {
      "cell_type": "code",
      "source": [
        "plt.matshow(X_train[4])"
      ],
      "metadata": {
        "colab": {
          "base_uri": "https://localhost:8080/",
          "height": 454
        },
        "id": "aeySAVTcmOw5",
        "outputId": "66f1ba76-fe32-447d-987a-95b93f60044f"
      },
      "execution_count": 6,
      "outputs": [
        {
          "output_type": "execute_result",
          "data": {
            "text/plain": [
              "<matplotlib.image.AxesImage at 0x7d0b7da5be50>"
            ]
          },
          "metadata": {},
          "execution_count": 6
        },
        {
          "output_type": "display_data",
          "data": {
            "text/plain": [
              "<Figure size 480x480 with 1 Axes>"
            ],
            "image/png": "[encoded data removed]"
          },
          "metadata": {}
        }
      ]
    },
    {
      "cell_type": "code",
      "source": [
        "y_train[4]"
      ],
      "metadata": {
        "colab": {
          "base_uri": "https://localhost:8080/"
        },
        "id": "6Uoy4QXEmQ-D",
        "outputId": "5fda4df9-230d-4ffc-e5f9-52be338933d2"
      },
      "execution_count": 7,
      "outputs": [
        {
          "output_type": "execute_result",
          "data": {
            "text/plain": [
              "9"
            ]
          },
          "metadata": {},
          "execution_count": 7
        }
      ]
    },
    {
      "cell_type": "code",
      "source": [
        "X_train = X_train / 255\n",
        "X_test = X_test / 255\n",
        "X_train_flattened = X_train.reshape(len(X_train), 28*28)\n",
        "X_test_flattened = X_test.reshape(len(X_test), 28*28)\n",
        "X_train_flattened.shape"
      ],
      "metadata": {
        "colab": {
          "base_uri": "https://localhost:8080/"
        },
        "id": "NUiNsLqRmT8X",
        "outputId": "323b1fe8-2cfe-4514-baa3-a31915c4c2f7"
      },
      "execution_count": 10,
      "outputs": [
        {
          "output_type": "execute_result",
          "data": {
            "text/plain": [
              "(60000, 784)"
            ]
          },
          "metadata": {},
          "execution_count": 10
        }
      ]
    },
    {
      "cell_type": "code",
      "source": [
        "model = keras.Sequential([\n",
        "    keras.layers.Flatten(input_shape=(28, 28)),\n",
        "    keras.layers.Dense(100, activation='relu'),\n",
        "    keras.layers.Dense(10, activation='sigmoid')\n",
        "])\n",
        "\n",
        "model.compile(optimizer='adam',\n",
        "              loss='sparse_categorical_crossentropy',\n",
        "              metrics=['accuracy'])\n",
        "\n",
        "tb_callback = tf.keras.callbacks.TensorBoard(log_dir=\"logs/\", histogram_freq=1)\n",
        "\n",
        "model.fit(X_train, y_train, epochs=5, callbacks=[tb_callback])"
      ],
      "metadata": {
        "colab": {
          "base_uri": "https://localhost:8080/"
        },
        "id": "JhllOc0KmpCS",
        "outputId": "687e917d-204a-46ef-a705-b77929d79ea7"
      },
      "execution_count": 11,
      "outputs": [
        {
          "output_type": "stream",
          "name": "stderr",
          "text": [
            "/usr/local/lib/python3.10/dist-packages/keras/src/layers/reshaping/flatten.py:37: UserWarning: Do not pass an `input_shape`/`input_dim` argument to a layer. When using Sequential models, prefer using an `Input(shape)` object as the first layer in the model instead.\n",
            "  super().__init__(**kwargs)\n"
          ]
        },
        {
          "output_type": "stream",
          "name": "stdout",
          "text": [
            "Epoch 1/5\n",
            "\u001b[1m1875/1875\u001b[0m \u001b[32m━━━━━━━━━━━━━━━━━━━━\u001b[0m\u001b[37m\u001b[0m \u001b[1m9s\u001b[0m 4ms/step - accuracy: 0.1132 - loss: 2.3016\n",
            "Epoch 2/5\n",
            "\u001b[1m1875/1875\u001b[0m \u001b[32m━━━━━━━━━━━━━━━━━━━━\u001b[0m\u001b[37m\u001b[0m \u001b[1m9s\u001b[0m 3ms/step - accuracy: 0.1131 - loss: 2.3005\n",
            "Epoch 3/5\n",
            "\u001b[1m1875/1875\u001b[0m \u001b[32m━━━━━━━━━━━━━━━━━━━━\u001b[0m\u001b[37m\u001b[0m \u001b[1m10s\u001b[0m 3ms/step - accuracy: 0.1123 - loss: 2.2989\n",
            "Epoch 4/5\n",
            "\u001b[1m1875/1875\u001b[0m \u001b[32m━━━━━━━━━━━━━━━━━━━━\u001b[0m\u001b[37m\u001b[0m \u001b[1m11s\u001b[0m 4ms/step - accuracy: 0.1225 - loss: 2.2936\n",
            "Epoch 5/5\n",
            "\u001b[1m1875/1875\u001b[0m \u001b[32m━━━━━━━━━━━━━━━━━━━━\u001b[0m\u001b[37m\u001b[0m \u001b[1m7s\u001b[0m 4ms/step - accuracy: 0.1577 - loss: 2.2805\n"
          ]
        },
        {
          "output_type": "execute_result",
          "data": {
            "text/plain": [
              "<keras.src.callbacks.history.History at 0x7d0b81856bc0>"
            ]
          },
          "metadata": {},
          "execution_count": 11
        }
      ]
    },
    {
      "cell_type": "code",
      "source": [
        "model.get_weights()"
      ],
      "metadata": {
        "colab": {
          "base_uri": "https://localhost:8080/"
        },
        "id": "6xHrube7nWvX",
        "outputId": "646f49e4-f72f-4361-db5e-c33756dd74b0"
      },
      "execution_count": 12,
      "outputs": [
        {
          "output_type": "execute_result",
          "data": {
            "text/plain": [
              "[array([[-0.04157813,  0.04842138, -0.05684621, ..., -0.06934547,\n",
              "          0.00991354, -0.07700053],\n",
              "        [-0.04464745,  0.00042512,  0.03234094, ...,  0.05532607,\n",
              "         -0.00569845,  0.07477474],\n",
              "        [ 0.05213596,  0.02533787, -0.0213878 , ..., -0.01731322,\n",
              "         -0.02518119,  0.03953982],\n",
              "        ...,\n",
              "        [-0.00822392,  0.02079128,  0.023045  , ..., -0.06740399,\n",
              "         -0.00734937, -0.00938476],\n",
              "        [-0.02131712, -0.04668482, -0.04367047, ...,  0.05600177,\n",
              "          0.0056759 , -0.05462617],\n",
              "        [-0.06499374, -0.00836226,  0.04438813, ...,  0.04883662,\n",
              "          0.04167964, -0.03638778]], dtype=float32),\n",
              " array([-0.00463296, -0.00600352,  0.01207224, -0.00600102, -0.00227229,\n",
              "        -0.00237821, -0.00598756, -0.00600392, -0.00191567, -0.00600494,\n",
              "        -0.00600205, -0.00600426, -0.00600471, -0.00338503,  0.01888095,\n",
              "        -0.00251712,  0.01505698, -0.00600499, -0.00600077, -0.00230793,\n",
              "        -0.00600034, -0.00052175, -0.00600306, -0.006004  , -0.00258673,\n",
              "        -0.00600439,  0.00780493, -0.00600497, -0.00600436, -0.00599671,\n",
              "        -0.00600467, -0.00196235,  0.01316876, -0.00422951, -0.00600431,\n",
              "        -0.00600467, -0.00600467, -0.00600488,  0.01155323,  0.01158611,\n",
              "        -0.0059963 , -0.00463246, -0.00600059, -0.00056278, -0.00600489,\n",
              "        -0.00203585, -0.00600285, -0.00600408, -0.0060049 , -0.0053845 ,\n",
              "        -0.00600401, -0.00281227, -0.00574029, -0.00311937, -0.00600416,\n",
              "        -0.00469474, -0.00600302, -0.00600355, -0.00600354, -0.0017936 ,\n",
              "        -0.00600431, -0.0060025 , -0.00599601, -0.00600436, -0.00341697,\n",
              "        -0.00600371, -0.00184225,  0.00795035, -0.00600336, -0.00600092,\n",
              "        -0.00230458,  0.01477267,  0.01221731, -0.00273001, -0.00600256,\n",
              "         0.03058176, -0.00600077, -0.00600116,  0.03372545, -0.00600476,\n",
              "        -0.00594727, -0.00350091, -0.00600038,  0.01403645, -0.00289488,\n",
              "        -0.001987  ,  0.0163431 , -0.00599568, -0.00371613,  0.01090223,\n",
              "        -0.00600223, -0.00600455, -0.00199678, -0.00600423, -0.00279956,\n",
              "        -0.00600129, -0.00600475, -0.00356767, -0.00598831, -0.00600287],\n",
              "       dtype=float32),\n",
              " array([[-1.82644159e-01,  5.68706542e-02, -1.91882238e-01,\n",
              "          1.35874713e-03,  2.03263208e-01, -1.07286990e-01,\n",
              "         -1.05624072e-01,  2.30430409e-01, -1.95365369e-01,\n",
              "          1.71436965e-01],\n",
              "        [-1.38206571e-01, -1.12939328e-01,  1.86073557e-01,\n",
              "          1.21153921e-01,  1.60781875e-01, -1.83911979e-01,\n",
              "          5.68737909e-02,  1.20859750e-01,  2.00804248e-01,\n",
              "         -5.28413840e-02],\n",
              "        [-2.58451819e+00,  1.13227701e+00, -9.22805250e-01,\n",
              "         -5.58581173e-01,  1.04120791e+00, -5.91258645e-01,\n",
              "         -5.73175073e-01,  1.64361584e+00,  2.31217500e-02,\n",
              "          1.26123583e+00],\n",
              "        [-6.12809286e-02, -1.16380617e-01, -2.05506440e-02,\n",
              "         -1.93172857e-01, -1.95250124e-01, -1.39208212e-01,\n",
              "         -1.09548666e-01, -5.85334934e-02, -9.78557244e-02,\n",
              "         -8.74560550e-02],\n",
              "        [ 1.56294212e-01, -7.60821924e-02,  1.44847810e-01,\n",
              "          4.38042097e-02, -2.17394412e-01,  1.70125484e-01,\n",
              "          5.66274524e-02,  6.01503551e-02, -7.54528046e-02,\n",
              "          1.60170034e-01],\n",
              "        [ 7.71931652e-03,  3.21284793e-02,  1.75683126e-01,\n",
              "         -1.13801040e-01,  1.55900955e-01,  1.70002326e-01,\n",
              "         -1.43953115e-01, -8.29775557e-02, -1.72251269e-01,\n",
              "          2.88450178e-02],\n",
              "        [ 8.73419195e-02, -8.76008049e-02,  7.02044591e-02,\n",
              "          3.41203883e-02,  1.95442557e-01,  5.44176437e-02,\n",
              "         -1.13113523e-02, -2.01622218e-01, -2.17876211e-01,\n",
              "         -1.35261072e-02],\n",
              "        [ 2.05590203e-01,  2.04373911e-01, -1.18238106e-01,\n",
              "         -1.45026743e-01, -1.70780003e-01, -2.00258076e-01,\n",
              "          1.12594396e-01,  1.89308688e-01, -1.80773631e-01,\n",
              "          1.96544811e-01],\n",
              "        [-2.15102121e-01,  4.20562401e-02,  1.71935841e-01,\n",
              "          1.28770322e-01,  4.48655114e-02, -5.86613640e-03,\n",
              "         -6.37317970e-02,  1.35065630e-01, -2.24224851e-01,\n",
              "          9.17914882e-02],\n",
              "        [ 1.23073086e-01, -1.16912507e-01,  6.17372766e-02,\n",
              "          8.70139599e-02, -2.33192429e-01,  7.71044195e-02,\n",
              "         -1.72287479e-01,  1.36962116e-01, -1.52604789e-01,\n",
              "          9.05341431e-02],\n",
              "        [ 1.50222823e-01,  1.25024319e-01, -5.13804890e-02,\n",
              "          2.25002557e-01,  1.76552847e-01, -6.73082024e-02,\n",
              "         -4.93961982e-02,  9.89255160e-02,  6.65914267e-02,\n",
              "         -1.30543396e-01],\n",
              "        [-2.14786440e-01, -1.21167563e-01,  5.26407175e-02,\n",
              "          1.67812377e-01, -2.25186080e-01, -1.48575548e-02,\n",
              "         -2.73947325e-02, -2.24123478e-01, -2.25165740e-01,\n",
              "          7.75359198e-02],\n",
              "        [-8.00566077e-02,  1.58283904e-01, -2.07787856e-01,\n",
              "          8.36568475e-02,  2.24450752e-01, -1.28252342e-01,\n",
              "          4.91161495e-02,  7.15194494e-02,  1.60299301e-01,\n",
              "          8.78045037e-02],\n",
              "        [-2.25289971e-01,  7.40390047e-02,  2.04583868e-01,\n",
              "         -1.61020979e-01,  6.58091456e-02, -9.88582447e-02,\n",
              "          1.97784677e-01,  5.09325564e-02,  2.79948767e-02,\n",
              "         -1.74880385e-01],\n",
              "        [ 8.31176460e-01,  5.68320274e-01,  8.02091539e-01,\n",
              "          1.18405497e+00, -1.45192397e+00,  1.75294653e-02,\n",
              "         -8.46769035e-01, -4.26652253e-01,  3.09303731e-01,\n",
              "         -9.78378892e-01],\n",
              "        [-5.14807217e-02, -1.15310803e-01,  1.01344831e-01,\n",
              "          1.98341340e-01,  4.41033281e-02,  1.20437987e-01,\n",
              "         -2.21490428e-01,  1.14314854e-01,  4.75170203e-02,\n",
              "         -9.75220371e-03],\n",
              "        [-3.00475907e+00,  2.00003886e+00,  7.88976431e-01,\n",
              "         -5.48659861e-01,  4.35607374e-01, -1.08768308e+00,\n",
              "          9.43794847e-01, -4.07175869e-02, -4.57942307e-01,\n",
              "         -1.59083530e-01],\n",
              "        [-2.29879662e-01, -9.16351900e-02,  2.06909165e-01,\n",
              "         -8.34257454e-02,  8.08641538e-02,  7.19979927e-02,\n",
              "          1.63012490e-01, -1.17343359e-01,  2.01194167e-01,\n",
              "          1.06497423e-03],\n",
              "        [-2.09572650e-02,  3.29672988e-03,  1.78315006e-02,\n",
              "         -1.66422904e-01,  1.60040304e-01, -1.43183246e-01,\n",
              "         -1.07473530e-01, -1.45416036e-01, -8.34296867e-02,\n",
              "         -4.66373609e-03],\n",
              "        [-1.86531946e-01,  2.30827153e-01,  2.07801871e-02,\n",
              "         -1.09366588e-01, -3.09559889e-02, -1.80732608e-01,\n",
              "         -2.19747454e-01,  7.46952742e-02,  1.32334545e-01,\n",
              "         -8.73682499e-02],\n",
              "        [ 1.37881011e-01,  1.64703637e-01,  2.78042816e-02,\n",
              "          1.12889521e-01,  5.86338900e-03, -1.08830847e-01,\n",
              "         -2.09712863e-01,  6.24141619e-02, -1.89238146e-01,\n",
              "          1.65942788e-01],\n",
              "        [ 1.69818372e-01,  2.29876265e-01,  1.77944273e-01,\n",
              "         -2.17542097e-01, -9.97284651e-02, -1.63075984e-01,\n",
              "          8.09918344e-02, -1.93622425e-01, -1.26467034e-01,\n",
              "         -7.38097653e-02],\n",
              "        [ 6.22593127e-02,  1.28985777e-01, -2.26381138e-01,\n",
              "         -9.96796135e-03,  2.14602277e-02, -1.68037694e-02,\n",
              "          2.32127026e-01, -8.71456116e-02,  1.54057786e-01,\n",
              "          5.28968051e-02],\n",
              "        [-2.39532329e-02,  2.01623395e-01, -3.01957093e-02,\n",
              "          8.97271791e-04, -1.44285217e-01,  1.32352978e-01,\n",
              "         -1.36517584e-01,  1.90562308e-01,  2.11713985e-01,\n",
              "          6.86221868e-02],\n",
              "        [-1.43293515e-01,  1.22609392e-01,  3.01098749e-02,\n",
              "         -1.07366644e-01,  1.89912856e-01, -1.06268704e-01,\n",
              "         -1.89314306e-01, -5.46159747e-04, -8.57184455e-02,\n",
              "         -2.09057778e-01],\n",
              "        [-6.03401586e-02, -1.80374488e-01,  9.52203050e-02,\n",
              "          1.22334296e-02,  2.27330238e-01,  5.82133047e-02,\n",
              "          1.63686097e-01, -1.90631673e-01,  2.89725661e-02,\n",
              "          8.96720029e-03],\n",
              "        [-1.66020370e+00,  1.79166424e+00,  9.19645309e-01,\n",
              "          2.42817491e-01, -4.38408822e-01, -7.93385804e-01,\n",
              "         -1.97224513e-01,  3.35462540e-01,  3.23949933e-01,\n",
              "         -3.43072027e-01],\n",
              "        [ 5.30104451e-02, -8.53563249e-02, -1.08444698e-01,\n",
              "          1.28591701e-01, -3.93003449e-02,  2.19971895e-01,\n",
              "          1.24284714e-01,  2.25786790e-01,  1.11929044e-01,\n",
              "         -6.24203049e-02],\n",
              "        [-1.52061239e-01,  4.69139032e-03, -2.02396527e-01,\n",
              "          3.83152030e-02,  2.06206903e-01,  2.16553718e-01,\n",
              "         -1.44996747e-01,  7.29176626e-02,  1.06593043e-01,\n",
              "          9.14223213e-03],\n",
              "        [-2.01091357e-02, -4.35732193e-02,  3.71320248e-02,\n",
              "         -7.36985207e-02, -7.29940459e-02, -3.32566872e-02,\n",
              "          1.93530455e-01,  4.71911244e-02, -1.60663594e-02,\n",
              "         -1.18959419e-01],\n",
              "        [-2.89840857e-03,  1.86602205e-01, -1.00848138e-01,\n",
              "          7.98011050e-02, -4.42726770e-03, -1.46797866e-01,\n",
              "         -1.57137886e-01,  1.10323228e-01, -1.97786033e-01,\n",
              "         -8.11646804e-02],\n",
              "        [-1.05120905e-01,  8.18275884e-02,  1.55711979e-01,\n",
              "          8.13406557e-02,  1.55418934e-02,  7.88545758e-02,\n",
              "          1.68696970e-01,  5.82124554e-02, -2.27056473e-01,\n",
              "         -7.27561563e-02],\n",
              "        [-2.85335088e+00,  1.92269909e+00, -6.10978007e-01,\n",
              "         -7.80066788e-01,  2.49806240e-01, -6.81904256e-01,\n",
              "         -8.71296823e-01,  1.59674788e+00,  2.49413848e-01,\n",
              "          6.17167354e-01],\n",
              "        [ 3.32704075e-02, -1.50110843e-02,  1.63281247e-01,\n",
              "          2.06225723e-01,  2.27031335e-02, -5.69992475e-02,\n",
              "         -1.15930513e-01, -1.44881278e-01, -1.97737604e-01,\n",
              "          1.81080773e-01],\n",
              "        [ 8.80998373e-02,  1.79383650e-01,  1.72993809e-01,\n",
              "         -2.23849326e-01,  7.98262749e-03,  2.06512034e-01,\n",
              "         -7.16036782e-02,  2.21684158e-01,  2.11457208e-01,\n",
              "          5.01917712e-02],\n",
              "        [ 6.57167062e-02, -8.52676202e-03, -1.82411164e-01,\n",
              "          6.97694942e-02, -1.49306461e-01,  1.69867218e-01,\n",
              "          3.24559212e-02,  1.92622125e-01,  4.05003093e-02,\n",
              "          6.10741377e-02],\n",
              "        [ 6.77601015e-03, -9.19030234e-02, -1.47288907e-02,\n",
              "          7.91070238e-02,  6.56442717e-02,  1.96964860e-01,\n",
              "          1.96903095e-01,  1.21389568e-01, -1.31999269e-01,\n",
              "         -5.20301498e-02],\n",
              "        [ 1.52535498e-01, -1.76788732e-01, -5.03334887e-02,\n",
              "          3.41261178e-02, -4.44028713e-02,  1.76386878e-01,\n",
              "         -4.12654467e-02, -3.84493358e-02,  2.00092465e-01,\n",
              "         -9.16756168e-02],\n",
              "        [-2.47157001e+00,  2.48926759e+00, -5.75731456e-01,\n",
              "          2.12012351e-01, -7.36932218e-01,  2.54256517e-01,\n",
              "         -3.62877846e-01, -6.68135984e-03,  4.00507748e-01,\n",
              "         -1.38951316e-01],\n",
              "        [-2.34875822e+00,  1.62318850e+00, -1.32731354e+00,\n",
              "         -6.33639812e-01,  5.62035680e-01, -1.56437501e-01,\n",
              "         -1.02966106e+00,  1.39480841e+00, -4.41061258e-01,\n",
              "          1.12947500e+00],\n",
              "        [ 3.14597562e-02,  2.35474464e-02,  1.66182876e-01,\n",
              "         -1.85979396e-01,  6.13128096e-02,  7.60527700e-03,\n",
              "          1.49152368e-01, -7.19839260e-02, -5.43399006e-02,\n",
              "          2.25853752e-02],\n",
              "        [ 1.86750054e-01,  1.11663684e-01,  1.30379900e-01,\n",
              "          2.37177629e-02,  1.40540540e-01, -4.04374413e-02,\n",
              "          2.04986945e-01,  5.75196696e-03, -1.96813792e-01,\n",
              "         -3.93823546e-04],\n",
              "        [-1.32123038e-01, -1.21774804e-02, -2.07719818e-01,\n",
              "          5.40263951e-02, -7.95256644e-02,  8.19735080e-02,\n",
              "         -2.31471449e-01,  1.66092455e-01, -6.26698360e-02,\n",
              "          2.41155806e-03],\n",
              "        [-1.71121448e-01, -9.99823119e-03,  1.34816989e-02,\n",
              "         -3.12881172e-02,  1.51446819e-01, -1.47550076e-01,\n",
              "          7.04500154e-02,  4.55864854e-02,  1.16247453e-01,\n",
              "         -2.00991094e-01],\n",
              "        [-6.25653863e-02,  6.42199740e-02, -1.31276190e-01,\n",
              "          2.06437588e-01, -1.64198354e-02,  2.79347952e-02,\n",
              "          8.30523074e-02, -9.75514874e-02, -1.02602027e-01,\n",
              "          1.25114545e-01],\n",
              "        [-1.54714584e-01, -1.28182024e-01,  5.38533181e-02,\n",
              "         -7.96403438e-02,  1.07962012e-01,  6.49924502e-02,\n",
              "          2.49288864e-02, -2.20196158e-01,  4.55953181e-02,\n",
              "         -1.58893481e-01],\n",
              "        [ 1.58119038e-01, -1.93702012e-01,  1.25453800e-01,\n",
              "         -9.56812277e-02,  1.52299926e-01, -1.45718545e-01,\n",
              "          2.17164561e-01, -1.64100736e-01,  2.04101980e-01,\n",
              "          1.64838105e-01],\n",
              "        [-2.04396203e-01, -4.57168221e-02,  1.37053743e-01,\n",
              "         -1.81982651e-01,  1.15849867e-01,  1.99845552e-01,\n",
              "          1.68922991e-01, -3.77192423e-02, -2.33458579e-02,\n",
              "          1.65763259e-01],\n",
              "        [ 1.20858088e-01, -1.85013503e-01, -6.38976172e-02,\n",
              "         -1.43148139e-01,  4.21471559e-02,  1.24846980e-01,\n",
              "         -7.64958858e-02,  8.27300102e-02, -1.92945287e-01,\n",
              "         -1.90440416e-01],\n",
              "        [-7.20897913e-02,  8.07315409e-02, -1.98513139e-02,\n",
              "         -1.17559778e-02,  8.02817196e-02, -1.01201475e-01,\n",
              "          1.74791366e-01,  1.73100054e-01, -1.76631778e-01,\n",
              "          1.73919246e-01],\n",
              "        [-1.66380801e-03, -1.65990055e-01,  1.65897518e-01,\n",
              "         -5.27183600e-02, -6.64172918e-02, -1.05999336e-01,\n",
              "         -6.29752129e-02,  1.65745467e-01, -1.68554440e-01,\n",
              "          2.74960010e-04],\n",
              "        [ 7.81293586e-02, -1.07553959e-01, -7.90005028e-02,\n",
              "          1.37464508e-01,  4.94851694e-02, -1.14837825e-01,\n",
              "         -1.05930410e-01, -1.23199672e-01,  6.72334209e-02,\n",
              "         -2.30580866e-01],\n",
              "        [-3.88479419e-02,  8.02425519e-02, -2.21991353e-02,\n",
              "         -1.06481932e-01,  2.95655411e-02,  1.49089461e-02,\n",
              "          2.91836057e-02, -5.28399087e-02,  1.07238039e-01,\n",
              "         -1.90680578e-01],\n",
              "        [ 1.09937806e-02, -1.34563804e-01,  1.97461993e-01,\n",
              "         -7.31736422e-02, -2.19332457e-01,  1.39471576e-01,\n",
              "         -4.47976263e-03, -2.08040446e-01, -6.58256859e-02,\n",
              "          3.91809531e-02],\n",
              "        [-1.29576638e-01,  2.47412678e-02,  1.29338637e-01,\n",
              "         -2.01464549e-01,  1.40989735e-03,  1.06758639e-01,\n",
              "         -4.41155024e-02, -8.70838240e-02,  1.04529209e-01,\n",
              "         -4.50903401e-02],\n",
              "        [ 2.16191396e-01, -7.55048543e-02, -1.33040234e-01,\n",
              "         -4.16316427e-02,  1.65875778e-01,  1.30085751e-01,\n",
              "         -5.30306920e-02, -4.52600382e-02, -3.81715894e-02,\n",
              "          1.53405115e-01],\n",
              "        [-4.60768444e-03, -6.02646731e-02,  8.80408287e-02,\n",
              "         -1.79337323e-01, -5.05967326e-02,  2.60405485e-02,\n",
              "         -1.70145214e-01, -9.07690916e-03, -6.69352263e-02,\n",
              "         -6.32829741e-02],\n",
              "        [-1.59687638e-01,  1.65350243e-01, -1.26969874e-01,\n",
              "         -1.24710955e-01, -2.27981627e-01,  1.83174372e-01,\n",
              "          2.04253033e-01, -8.46492127e-03,  1.41673252e-01,\n",
              "          2.15398595e-01],\n",
              "        [ 6.11447878e-02,  6.63226889e-03, -2.33273536e-01,\n",
              "          4.90355231e-02,  1.52282044e-01,  2.28608057e-01,\n",
              "         -1.27238408e-01, -2.80398112e-02, -1.37303069e-01,\n",
              "         -4.01200913e-02],\n",
              "        [-1.15509406e-01,  1.15954876e-01,  1.30372792e-01,\n",
              "         -1.51836202e-01,  1.66324914e-01, -2.40564734e-01,\n",
              "          1.28122211e-01, -1.03886403e-01, -1.52429834e-01,\n",
              "         -4.16442007e-02],\n",
              "        [ 6.90492317e-02,  1.34805694e-01,  7.06048533e-02,\n",
              "         -1.35949954e-01, -8.47686902e-02,  1.66342437e-01,\n",
              "         -1.75535098e-01, -1.05427429e-01, -8.71286448e-03,\n",
              "          2.24961471e-02],\n",
              "        [ 1.69240162e-01,  1.55606940e-01, -1.90366089e-01,\n",
              "          2.13239536e-01, -8.27782042e-03, -6.34418847e-03,\n",
              "          1.80772468e-01, -2.26583272e-01, -4.50910628e-02,\n",
              "         -9.12133008e-02],\n",
              "        [ 1.04739517e-02, -1.90683901e-01, -4.74489368e-02,\n",
              "         -1.34729505e-01,  1.25837386e-01,  2.30665997e-01,\n",
              "         -6.10959833e-05,  1.89752415e-01, -1.99376285e-01,\n",
              "         -4.16035242e-02],\n",
              "        [ 8.43873098e-02, -2.04388201e-01,  2.19070911e-01,\n",
              "         -8.47841650e-02,  1.91602349e-01,  5.96679226e-02,\n",
              "         -1.98006425e-02,  3.83219495e-03,  1.24493815e-01,\n",
              "         -9.09737945e-02],\n",
              "        [ 1.15413770e-01, -6.42577559e-02,  6.28832057e-02,\n",
              "          1.54641613e-01, -7.61367679e-02,  1.14862293e-01,\n",
              "         -1.98262148e-02,  1.71142936e-01,  5.56595661e-02,\n",
              "         -1.61617130e-01],\n",
              "        [-4.67032753e-03,  3.00385468e-02, -1.13256417e-01,\n",
              "          5.99980876e-02, -1.97900414e-01, -9.69445799e-03,\n",
              "         -9.73537043e-02,  1.75052062e-02,  7.86065236e-02,\n",
              "          5.34781739e-02],\n",
              "        [ 1.08022645e-01, -1.30928531e-01,  1.05074324e-01,\n",
              "         -5.84146492e-02, -2.05698371e-01, -1.56967312e-01,\n",
              "          3.55645083e-02, -1.99971884e-01,  4.99455258e-02,\n",
              "         -8.18120465e-02],\n",
              "        [-5.38204610e-01,  1.23845422e+00, -2.69917786e-01,\n",
              "          7.37375617e-01, -5.28464951e-02,  1.23683717e-02,\n",
              "         -1.81896770e+00,  7.86692500e-01,  1.78283900e-01,\n",
              "          8.79308134e-02],\n",
              "        [-3.36254537e-02,  9.39049125e-02,  3.83818783e-02,\n",
              "          5.83424838e-03,  2.89664045e-02,  3.09623796e-02,\n",
              "          7.07671493e-02,  1.71823531e-01,  1.62751511e-01,\n",
              "          3.72205153e-02],\n",
              "        [-1.63695425e-01,  1.75482035e-02, -8.15682113e-03,\n",
              "          2.29496896e-01, -1.88428789e-01, -1.21994682e-01,\n",
              "         -1.54944420e-01,  6.77765310e-02,  2.11443424e-01,\n",
              "         -9.74369943e-02],\n",
              "        [-3.94790769e-02,  2.15936124e-01, -1.21886253e-01,\n",
              "         -1.82394966e-01, -1.38563454e-01,  8.66519883e-02,\n",
              "          1.46979108e-01,  1.74718350e-01, -2.15067357e-01,\n",
              "          9.00366995e-03],\n",
              "        [-3.38132429e+00,  2.43479443e+00, -1.41877010e-01,\n",
              "         -9.77075219e-01,  2.60597020e-01, -7.19883740e-01,\n",
              "          4.30903673e-01,  2.65568078e-01, -4.20394063e-01,\n",
              "          2.51436293e-01],\n",
              "        [-2.55893970e+00,  1.98685479e+00, -1.97641894e-01,\n",
              "         -1.00943220e+00, -1.88305929e-01, -6.37426436e-01,\n",
              "          6.55831039e-01,  3.13897699e-01,  6.92835450e-02,\n",
              "          1.20838508e-02],\n",
              "        [ 5.26375100e-02,  8.55263025e-02,  4.76057194e-02,\n",
              "         -4.96619642e-02,  2.03003883e-01, -2.09776819e-01,\n",
              "         -1.22818023e-01, -7.06198663e-02,  1.94687590e-01,\n",
              "         -6.02670349e-02],\n",
              "        [-1.38114423e-01, -3.51721644e-02, -1.53799489e-01,\n",
              "          1.58106998e-01,  1.51804611e-01, -1.97450861e-01,\n",
              "         -4.38072011e-02, -5.33535033e-02,  1.44493058e-01,\n",
              "         -2.19158322e-01],\n",
              "        [ 1.10616457e+00,  4.89837706e-01,  2.53775746e-01,\n",
              "          9.52721357e-01, -1.27590895e+00,  4.14224043e-02,\n",
              "         -7.73554742e-01, -7.86450148e-01,  2.94134110e-01,\n",
              "         -9.05785978e-01],\n",
              "        [ 4.14520837e-02,  4.65780161e-02,  1.01869613e-01,\n",
              "         -1.32186757e-02, -1.37579948e-01, -1.26330197e-01,\n",
              "          1.32812932e-01, -1.91839963e-01, -1.91532582e-01,\n",
              "          2.23743096e-01],\n",
              "        [-1.57966599e-01, -1.86723068e-01, -3.20295542e-02,\n",
              "         -4.50717323e-02, -7.37967342e-02, -4.72763702e-02,\n",
              "          8.60300958e-02, -2.91444920e-02,  2.52698641e-02,\n",
              "          1.71142101e-01],\n",
              "        [ 1.04745972e+00,  4.17477041e-01,  2.93743044e-01,\n",
              "         -2.82306392e-02, -7.73022175e-01, -2.48511821e-01,\n",
              "          7.10162818e-02, -2.29444191e-01, -3.00627917e-01,\n",
              "         -8.37802351e-01],\n",
              "        [ 2.24842951e-01, -1.79044425e-01,  2.09110513e-01,\n",
              "         -1.08386591e-01, -1.26589686e-01,  1.89513061e-02,\n",
              "         -4.45612855e-02, -1.72360167e-01,  2.17932478e-01,\n",
              "          2.97673233e-02],\n",
              "        [ 5.37922569e-02, -7.81204477e-02,  1.29101574e-02,\n",
              "          1.00637443e-01,  1.34284705e-01,  2.30634958e-01,\n",
              "         -1.54563889e-01, -3.35488617e-02, -1.05698779e-01,\n",
              "         -3.41833197e-02],\n",
              "        [ 1.40830830e-01,  1.98706627e-01,  7.80333653e-02,\n",
              "         -8.22863430e-02,  1.24811269e-01,  8.21744129e-02,\n",
              "         -1.82852149e-01,  2.97950357e-02, -1.52367473e-01,\n",
              "         -2.06102580e-01],\n",
              "        [-1.78971469e-01, -1.12982713e-01, -1.10574521e-01,\n",
              "         -1.06834909e-02, -3.59225310e-02,  8.14417526e-02,\n",
              "          2.22370908e-01,  3.15386951e-02,  1.74669474e-01,\n",
              "         -2.26636961e-01],\n",
              "        [-2.90318155e+00,  1.77064550e+00, -1.61785692e-01,\n",
              "         -1.06089604e+00,  7.45737493e-01, -9.70960259e-01,\n",
              "          1.53132230e-01,  6.80665433e-01, -5.66265404e-01,\n",
              "          4.16666120e-01],\n",
              "        [ 1.95301741e-01,  2.09438428e-01, -4.31788201e-03,\n",
              "         -2.61352910e-03, -9.06094313e-02, -7.36927539e-02,\n",
              "         -1.60604537e-01, -2.05895647e-01, -1.62655845e-01,\n",
              "          2.64683478e-02],\n",
              "        [-2.08819762e-01,  3.90272029e-02, -4.69871622e-04,\n",
              "         -1.93442553e-01,  5.33960797e-02, -4.46583293e-02,\n",
              "         -1.28674179e-01,  2.09952623e-01,  9.54353288e-02,\n",
              "         -9.36865285e-02],\n",
              "        [ 4.82848525e-01,  1.29908574e+00,  3.30103874e-01,\n",
              "          7.25595236e-01, -7.75391519e-01, -7.98466522e-03,\n",
              "          2.36516967e-02, -1.23420811e+00, -1.90230384e-01,\n",
              "         -1.23605037e+00],\n",
              "        [ 1.57285944e-01,  1.75164804e-01,  2.00436383e-01,\n",
              "         -4.34908047e-02, -4.64284457e-02,  1.98711708e-01,\n",
              "         -1.57058448e-01,  1.31000668e-01, -2.32973829e-01,\n",
              "         -2.55180541e-02],\n",
              "        [-4.25167195e-02,  1.85314983e-01,  1.96510348e-02,\n",
              "         -3.03008803e-03,  1.10395119e-01, -5.40935881e-02,\n",
              "          1.51490673e-01, -7.27628022e-02, -4.51910011e-02,\n",
              "         -1.87248558e-01],\n",
              "        [-2.87428164e+00,  2.27943444e+00, -3.54789197e-01,\n",
              "          6.47944331e-01, -5.63289225e-01, -1.90357462e-01,\n",
              "          7.57311434e-02, -1.10195152e-01, -1.11846179e-01,\n",
              "          3.24814469e-01],\n",
              "        [ 3.61889973e-02, -1.95889264e-01, -2.16890663e-01,\n",
              "         -1.73758324e-02,  1.22265980e-01, -2.58147530e-02,\n",
              "         -1.77840590e-01, -1.33945987e-01, -1.79850504e-01,\n",
              "          1.90787390e-01],\n",
              "        [-2.01393887e-01, -1.07925341e-01, -9.10310596e-02,\n",
              "          2.19715387e-01,  7.26574212e-02,  1.77295059e-01,\n",
              "         -1.36932433e-01,  8.83440226e-02, -5.31777628e-02,\n",
              "          2.46999394e-02],\n",
              "        [-1.50231779e-01, -1.87872633e-01,  9.20931846e-02,\n",
              "         -1.39530212e-01, -1.97460815e-01,  7.07903728e-02,\n",
              "          2.36507460e-01,  1.22269303e-01,  3.01413219e-02,\n",
              "         -2.10719049e-01],\n",
              "        [ 1.50404170e-01, -1.85253695e-01, -1.11926004e-01,\n",
              "          8.44432339e-02,  1.50065990e-02,  2.01646313e-01,\n",
              "         -1.83561996e-01,  1.45013571e-01,  9.58503559e-02,\n",
              "         -1.50684431e-01],\n",
              "        [-1.59956306e-01,  1.60872638e-01,  1.15202302e-02,\n",
              "          3.98744568e-02,  1.80523694e-01,  9.35822800e-02,\n",
              "         -1.99767888e-01,  1.40580870e-02,  7.75623620e-02,\n",
              "         -6.05092093e-04],\n",
              "        [-7.37062143e-03,  6.78701773e-02,  1.95506945e-01,\n",
              "         -3.33660189e-03, -3.87502089e-02,  3.88625711e-02,\n",
              "          2.11266771e-01, -4.44660559e-02, -2.41577000e-04,\n",
              "          2.30679229e-01],\n",
              "        [-6.08544536e-02, -2.15250701e-01, -1.95104048e-01,\n",
              "         -6.73510507e-02,  1.67033374e-01,  1.94909424e-01,\n",
              "         -1.20953359e-01,  1.62558436e-01, -2.13381246e-01,\n",
              "          7.15338662e-02],\n",
              "        [ 6.32741824e-02,  1.21792577e-01,  7.88668543e-02,\n",
              "         -9.97916237e-02, -1.17945492e-01, -2.37366706e-01,\n",
              "          1.97835848e-01, -1.70023337e-01,  1.09023303e-01,\n",
              "         -1.93179294e-01],\n",
              "        [ 2.17110574e-01,  4.02705260e-02,  1.40807137e-01,\n",
              "          1.06263556e-01, -1.74864322e-01, -1.74076200e-01,\n",
              "         -1.19899765e-01, -2.09702075e-01, -1.14328288e-01,\n",
              "         -1.25854403e-01],\n",
              "        [-1.39549956e-01,  2.85695512e-02, -1.20999776e-01,\n",
              "         -1.15389444e-01,  8.76629353e-02,  1.78470567e-01,\n",
              "         -1.96717963e-01,  3.10722925e-02,  1.76362813e-01,\n",
              "         -1.68310646e-02]], dtype=float32),\n",
              " array([ 0.16691971, -0.14634275, -0.01147411,  0.01124506,  0.00165336,\n",
              "        -0.05268992,  0.02796235, -0.00896376, -0.02496207,  0.01938467],\n",
              "       dtype=float32)]"
            ]
          },
          "metadata": {},
          "execution_count": 12
        }
      ]
    },
    {
      "cell_type": "code",
      "source": [],
      "metadata": {
        "id": "5BUzNkT3ncSv"
      },
      "execution_count": null,
      "outputs": []
    }
  ]
}